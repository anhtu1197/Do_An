{
 "cells": [
  {
   "cell_type": "code",
   "execution_count": null,
   "metadata": {},
   "outputs": [],
   "source": [
    "# Cut audio function \n",
    "# Input: source, dst, start, end\n",
    "from pydub import AudioSegment\n",
    "\n",
    "def takeAudioSegment(source, dst, start, end):\n",
    "    #source: path to source audio file \n",
    "    #dst: destination to audio file \n",
    "    start = start * 1000 # Pydub works in milliseconds\n",
    "    end = end * 1000 # Pydub works in milliseconds\n",
    "    src_Audio = AudioSegment.from_wav(source)\n",
    "    #Cut the right part\n",
    "    output_audio = src_Audio[start:end]\n",
    "    #Export the file \n",
    "    output_audio.export(dst, format=\"wav\") "
   ]
  },
  {
   "cell_type": "code",
   "execution_count": null,
   "metadata": {},
   "outputs": [],
   "source": [
    "import os\n",
    "#need to convert and write to another metadata\n",
    "def split_by_label(source_path, dst_path, label_path):\n",
    "    filenames = os.listdir(source_path)\n",
    "    metaInfo=[[\"\",\"\"]]\n",
    "    for filename in filenames:\n",
    "        filename =  filename.split(\".\")[0] #take the file name without dot\n",
    "        #get wav file name path\n",
    "        wav_path = source_path + filename + \".wav\"\n",
    "        #get label filename path\n",
    "        csv_path = label_path + filename + \".txt\"\n",
    "        #read the label file path \n",
    "        label = pd.read_csv(csv_path, delim_whitespace= True)\n",
    "        #Loop all over the csv file in print start:end, \n",
    "        i = 0   \n",
    "        for index, row in label.iterrows():\n",
    "            print (i)      \n",
    "            start = row['Start']\n",
    "            print(\"start:\" + str(start))\n",
    "            end = row['End']\n",
    "            print(\"start:\" + str(end))\n",
    "            status = row['Status']\n",
    "            output_name = str(i) + \"-\" + status + \"-\" + filename +\".wav\"\n",
    "            dst = dst_path + output_name\n",
    "            print(\"dst = \" + dst)\n",
    "            takeAudioSegment(wav_path, dst, start, end)\n",
    "            #write the metadata file \n",
    "            metaInfo.append([output_name, status])\n",
    "            i += 1\n",
    "        #save the metadata file\n",
    "        df = pd.DataFrame(metaInfo, columns = ['File_name', 'Label']) \n",
    "        df.to_csv(dst_path + \"result.csv\", sep='\\t', encoding='utf-8')\n",
    "     \n",
    "\n",
    "    "
   ]
  },
  {
   "cell_type": "code",
   "execution_count": null,
   "metadata": {},
   "outputs": [],
   "source": [
    "inputPath = \"C:/Users/tupa7/Desktop/Do An/Datasets/Breath_datasets_wav/Test/input/\"\n",
    "outputPath = \"C:/Users/tupa7/Desktop/Do An/Datasets/Breath_datasets_wav/Test/output/\"\n",
    "labelPath = \"C:/Users/tupa7/Desktop/Do An/Datasets/Breath_datasets_wav/Test/label/\"\n",
    "\n",
    "split_by_label(inputPath, outputPath, labelPath)"
   ]
  },
  {
   "cell_type": "code",
   "execution_count": null,
   "metadata": {},
   "outputs": [],
   "source": []
  },
  {
   "cell_type": "code",
   "execution_count": null,
   "metadata": {},
   "outputs": [],
   "source": []
  }
 ],
 "metadata": {
  "kernelspec": {
   "display_name": "Python [conda env:tuenv]",
   "language": "python",
   "name": "conda-env-tuenv-py"
  },
  "language_info": {
   "codemirror_mode": {
    "name": "ipython",
    "version": 3
   },
   "file_extension": ".py",
   "mimetype": "text/x-python",
   "name": "python",
   "nbconvert_exporter": "python",
   "pygments_lexer": "ipython3",
   "version": "3.7.3"
  }
 },
 "nbformat": 4,
 "nbformat_minor": 2
}
